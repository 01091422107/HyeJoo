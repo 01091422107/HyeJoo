{
 "cells": [
  {
   "cell_type": "markdown",
   "metadata": {},
   "source": [
    "# 💳 Credit Card - 사기 탐지(Anomaly Detection)\n",
    "🎯 신용카드 거래 데이터에서 정상 거래인지, 사기 거래인지를 분류하는 이진 분류 문제"
   ]
  },
  {
   "cell_type": "markdown",
   "metadata": {},
   "source": [
    "## ✅ 1. 데이터 전처리\n",
    "\n",
    "### 📌 1-1. 데이터 로딩"
   ]
  },
  {
   "cell_type": "code",
   "execution_count": 22,
   "metadata": {},
   "outputs": [
    {
     "name": "stdout",
     "output_type": "stream",
     "text": [
      "데이터 크기: (284807, 31)\n"
     ]
    },
    {
     "data": {
      "text/html": [
       "<div>\n",
       "<style scoped>\n",
       "    .dataframe tbody tr th:only-of-type {\n",
       "        vertical-align: middle;\n",
       "    }\n",
       "\n",
       "    .dataframe tbody tr th {\n",
       "        vertical-align: top;\n",
       "    }\n",
       "\n",
       "    .dataframe thead th {\n",
       "        text-align: right;\n",
       "    }\n",
       "</style>\n",
       "<table border=\"1\" class=\"dataframe\">\n",
       "  <thead>\n",
       "    <tr style=\"text-align: right;\">\n",
       "      <th></th>\n",
       "      <th>Time</th>\n",
       "      <th>V1</th>\n",
       "      <th>V2</th>\n",
       "      <th>V3</th>\n",
       "      <th>V4</th>\n",
       "      <th>V5</th>\n",
       "      <th>V6</th>\n",
       "      <th>V7</th>\n",
       "      <th>V8</th>\n",
       "      <th>V9</th>\n",
       "      <th>...</th>\n",
       "      <th>V21</th>\n",
       "      <th>V22</th>\n",
       "      <th>V23</th>\n",
       "      <th>V24</th>\n",
       "      <th>V25</th>\n",
       "      <th>V26</th>\n",
       "      <th>V27</th>\n",
       "      <th>V28</th>\n",
       "      <th>Amount</th>\n",
       "      <th>Class</th>\n",
       "    </tr>\n",
       "  </thead>\n",
       "  <tbody>\n",
       "    <tr>\n",
       "      <th>0</th>\n",
       "      <td>0.0</td>\n",
       "      <td>-1.359807</td>\n",
       "      <td>-0.072781</td>\n",
       "      <td>2.536347</td>\n",
       "      <td>1.378155</td>\n",
       "      <td>-0.338321</td>\n",
       "      <td>0.462388</td>\n",
       "      <td>0.239599</td>\n",
       "      <td>0.098698</td>\n",
       "      <td>0.363787</td>\n",
       "      <td>...</td>\n",
       "      <td>-0.018307</td>\n",
       "      <td>0.277838</td>\n",
       "      <td>-0.110474</td>\n",
       "      <td>0.066928</td>\n",
       "      <td>0.128539</td>\n",
       "      <td>-0.189115</td>\n",
       "      <td>0.133558</td>\n",
       "      <td>-0.021053</td>\n",
       "      <td>149.62</td>\n",
       "      <td>0</td>\n",
       "    </tr>\n",
       "    <tr>\n",
       "      <th>1</th>\n",
       "      <td>0.0</td>\n",
       "      <td>1.191857</td>\n",
       "      <td>0.266151</td>\n",
       "      <td>0.166480</td>\n",
       "      <td>0.448154</td>\n",
       "      <td>0.060018</td>\n",
       "      <td>-0.082361</td>\n",
       "      <td>-0.078803</td>\n",
       "      <td>0.085102</td>\n",
       "      <td>-0.255425</td>\n",
       "      <td>...</td>\n",
       "      <td>-0.225775</td>\n",
       "      <td>-0.638672</td>\n",
       "      <td>0.101288</td>\n",
       "      <td>-0.339846</td>\n",
       "      <td>0.167170</td>\n",
       "      <td>0.125895</td>\n",
       "      <td>-0.008983</td>\n",
       "      <td>0.014724</td>\n",
       "      <td>2.69</td>\n",
       "      <td>0</td>\n",
       "    </tr>\n",
       "    <tr>\n",
       "      <th>2</th>\n",
       "      <td>1.0</td>\n",
       "      <td>-1.358354</td>\n",
       "      <td>-1.340163</td>\n",
       "      <td>1.773209</td>\n",
       "      <td>0.379780</td>\n",
       "      <td>-0.503198</td>\n",
       "      <td>1.800499</td>\n",
       "      <td>0.791461</td>\n",
       "      <td>0.247676</td>\n",
       "      <td>-1.514654</td>\n",
       "      <td>...</td>\n",
       "      <td>0.247998</td>\n",
       "      <td>0.771679</td>\n",
       "      <td>0.909412</td>\n",
       "      <td>-0.689281</td>\n",
       "      <td>-0.327642</td>\n",
       "      <td>-0.139097</td>\n",
       "      <td>-0.055353</td>\n",
       "      <td>-0.059752</td>\n",
       "      <td>378.66</td>\n",
       "      <td>0</td>\n",
       "    </tr>\n",
       "    <tr>\n",
       "      <th>3</th>\n",
       "      <td>1.0</td>\n",
       "      <td>-0.966272</td>\n",
       "      <td>-0.185226</td>\n",
       "      <td>1.792993</td>\n",
       "      <td>-0.863291</td>\n",
       "      <td>-0.010309</td>\n",
       "      <td>1.247203</td>\n",
       "      <td>0.237609</td>\n",
       "      <td>0.377436</td>\n",
       "      <td>-1.387024</td>\n",
       "      <td>...</td>\n",
       "      <td>-0.108300</td>\n",
       "      <td>0.005274</td>\n",
       "      <td>-0.190321</td>\n",
       "      <td>-1.175575</td>\n",
       "      <td>0.647376</td>\n",
       "      <td>-0.221929</td>\n",
       "      <td>0.062723</td>\n",
       "      <td>0.061458</td>\n",
       "      <td>123.50</td>\n",
       "      <td>0</td>\n",
       "    </tr>\n",
       "    <tr>\n",
       "      <th>4</th>\n",
       "      <td>2.0</td>\n",
       "      <td>-1.158233</td>\n",
       "      <td>0.877737</td>\n",
       "      <td>1.548718</td>\n",
       "      <td>0.403034</td>\n",
       "      <td>-0.407193</td>\n",
       "      <td>0.095921</td>\n",
       "      <td>0.592941</td>\n",
       "      <td>-0.270533</td>\n",
       "      <td>0.817739</td>\n",
       "      <td>...</td>\n",
       "      <td>-0.009431</td>\n",
       "      <td>0.798278</td>\n",
       "      <td>-0.137458</td>\n",
       "      <td>0.141267</td>\n",
       "      <td>-0.206010</td>\n",
       "      <td>0.502292</td>\n",
       "      <td>0.219422</td>\n",
       "      <td>0.215153</td>\n",
       "      <td>69.99</td>\n",
       "      <td>0</td>\n",
       "    </tr>\n",
       "  </tbody>\n",
       "</table>\n",
       "<p>5 rows × 31 columns</p>\n",
       "</div>"
      ],
      "text/plain": [
       "   Time        V1        V2        V3        V4        V5        V6        V7  \\\n",
       "0   0.0 -1.359807 -0.072781  2.536347  1.378155 -0.338321  0.462388  0.239599   \n",
       "1   0.0  1.191857  0.266151  0.166480  0.448154  0.060018 -0.082361 -0.078803   \n",
       "2   1.0 -1.358354 -1.340163  1.773209  0.379780 -0.503198  1.800499  0.791461   \n",
       "3   1.0 -0.966272 -0.185226  1.792993 -0.863291 -0.010309  1.247203  0.237609   \n",
       "4   2.0 -1.158233  0.877737  1.548718  0.403034 -0.407193  0.095921  0.592941   \n",
       "\n",
       "         V8        V9  ...       V21       V22       V23       V24       V25  \\\n",
       "0  0.098698  0.363787  ... -0.018307  0.277838 -0.110474  0.066928  0.128539   \n",
       "1  0.085102 -0.255425  ... -0.225775 -0.638672  0.101288 -0.339846  0.167170   \n",
       "2  0.247676 -1.514654  ...  0.247998  0.771679  0.909412 -0.689281 -0.327642   \n",
       "3  0.377436 -1.387024  ... -0.108300  0.005274 -0.190321 -1.175575  0.647376   \n",
       "4 -0.270533  0.817739  ... -0.009431  0.798278 -0.137458  0.141267 -0.206010   \n",
       "\n",
       "        V26       V27       V28  Amount  Class  \n",
       "0 -0.189115  0.133558 -0.021053  149.62      0  \n",
       "1  0.125895 -0.008983  0.014724    2.69      0  \n",
       "2 -0.139097 -0.055353 -0.059752  378.66      0  \n",
       "3 -0.221929  0.062723  0.061458  123.50      0  \n",
       "4  0.502292  0.219422  0.215153   69.99      0  \n",
       "\n",
       "[5 rows x 31 columns]"
      ]
     },
     "execution_count": 22,
     "metadata": {},
     "output_type": "execute_result"
    }
   ],
   "source": [
    "import pandas as pd\n",
    "\n",
    "# 데이터 로드\n",
    "df = pd.read_csv(\"/Users/lee_hyejoo/Desktop/hyejoo/학교/3학년 1학기/머신러닝/중간_대체/신용카드_사기_탐지, Credit Card Fraud - Anomaly Detection/creditcard.csv\")\n",
    "\n",
    "# 기본 정보 확인\n",
    "print(\"데이터 크기:\", df.shape)\n",
    "df.head()"
   ]
  },
  {
   "cell_type": "markdown",
   "metadata": {},
   "source": [
    "### 📌 1-2. 클래스 분포 확인 (불균형 문제 파악)"
   ]
  },
  {
   "cell_type": "code",
   "execution_count": 23,
   "metadata": {},
   "outputs": [
    {
     "data": {
      "text/plain": [
       "Class\n",
       "0    0.998273\n",
       "1    0.001727\n",
       "Name: proportion, dtype: float64"
      ]
     },
     "execution_count": 23,
     "metadata": {},
     "output_type": "execute_result"
    }
   ],
   "source": [
    "df[\"Class\"].value_counts(normalize=True)"
   ]
  },
  {
   "cell_type": "markdown",
   "metadata": {},
   "source": [
    "💡 설명\n",
    "- 데이터의 거의 전부가 정상 거래이며,사기 거래는 전체의 0.17%밖에 안 됨\n",
    "- 따라서 일반적인 모델을 그냥 학습시키면 → 무조건 “0(정상)”만 예측해도 높은 정확도가 나오게 됨 → 실제로 사기를 탐지하는 데 전혀 쓸모 없는 모델"
   ]
  },
  {
   "cell_type": "markdown",
   "metadata": {},
   "source": [
    "---"
   ]
  },
  {
   "cell_type": "markdown",
   "metadata": {},
   "source": [
    "### 📌 1-3. 불균형 데이터 처리 - 언더샘플링"
   ]
  },
  {
   "cell_type": "code",
   "execution_count": 24,
   "metadata": {},
   "outputs": [
    {
     "data": {
      "text/plain": [
       "Class\n",
       "0    492\n",
       "1    492\n",
       "Name: count, dtype: int64"
      ]
     },
     "execution_count": 24,
     "metadata": {},
     "output_type": "execute_result"
    }
   ],
   "source": [
    "# 정상(0)과 사기(1) 거래 분리\n",
    "fraud = df_normalized[df_normalized['Class'] == 1]\n",
    "normal = df_normalized[df_normalized['Class'] == 0].sample(n=len(fraud), random_state=42)\n",
    "\n",
    "# 언더샘플링된 데이터셋 결합\n",
    "df_under = pd.concat([fraud, normal]).sample(frac=1, random_state=42).reset_index(drop=True)\n",
    "\n",
    "# 클래스 분포 확인\n",
    "df_under['Class'].value_counts()"
   ]
  },
  {
   "cell_type": "markdown",
   "metadata": {},
   "source": [
    "### 📌 1-3. 불균형 데이터 처리 - SMOTE"
   ]
  },
  {
   "cell_type": "code",
   "execution_count": 25,
   "metadata": {},
   "outputs": [
    {
     "data": {
      "text/plain": [
       "Class\n",
       "0    284315\n",
       "1    284315\n",
       "Name: count, dtype: int64"
      ]
     },
     "execution_count": 25,
     "metadata": {},
     "output_type": "execute_result"
    }
   ],
   "source": [
    "from imblearn.over_sampling import SMOTE\n",
    "\n",
    "# Feature, Label 분리\n",
    "X = df_normalized.drop(columns=['Class'])\n",
    "y = df_normalized['Class']\n",
    "\n",
    "# SMOTE 적용\n",
    "smote = SMOTE(random_state=42)\n",
    "X_smote, y_smote = smote.fit_resample(X, y)\n",
    "\n",
    "# 확인\n",
    "pd.Series(y_smote).value_counts()"
   ]
  },
  {
   "cell_type": "markdown",
   "metadata": {},
   "source": [
    "📌 차이 요약\n",
    "\n",
    "항목 | 언더샘플링 | SMOTE (오버샘플링)\n",
    "\n",
    "전략 | 정상 샘플 줄임 | 사기 샘플 합성\n",
    "\n",
    "장점 | 빠르고 단순, 과적합 적음 | 정보 손실 없음, 전체 데이터 활용\n",
    "\n",
    "단점 | 정보 손실 큼 | 과적합 위험, 느림\n",
    "\n",
    "데이터 수 | 줄어듦 | 늘어남\n",
    "\n",
    "적합 모델 | 빠른 실험, 트리 계열 | 거리 기반, 딥러닝 계열\n",
    "\n",
    "주의점 | 너무 적게 남으면 성능 저하 | 고차원에서는 SMOTE 품질 ↓\n",
    "\n",
    "🔍 판단 기준\n",
    "\n",
    "🔸 📉 데이터가 너무 많고 트리 계열 모델 위주 → 언더샘플링(빠르고 overfitting 적음)\n",
    "\n",
    "🔸 📈 거리 기반 모델(Logistic, Autoencoder 등), 딥러닝 포힘 → SMOTE(데이터가 풍부해지고, 소수 클래스 학습에 유리)\n",
    "\n",
    "✅ 선택 ➡️ SMOTE\n",
    "- 전체 데이터를 그대로 살릴 수 있음\n",
    "- Autoencoder, Logistic처럼 데이터 분포에 민감한 모델에 더 잘 맞음\n",
    "- recision-Recall Curve, AUC 평가처럼 소수 클래스 성능이 중요할 때 유리\n",
    "\n"
   ]
  },
  {
   "cell_type": "markdown",
   "metadata": {},
   "source": [
    "---"
   ]
  },
  {
   "cell_type": "markdown",
   "metadata": {},
   "source": [
    "### 📌 1-4 거래 금액 정규화"
   ]
  },
  {
   "cell_type": "code",
   "execution_count": 26,
   "metadata": {},
   "outputs": [
    {
     "data": {
      "text/html": [
       "<div>\n",
       "<style scoped>\n",
       "    .dataframe tbody tr th:only-of-type {\n",
       "        vertical-align: middle;\n",
       "    }\n",
       "\n",
       "    .dataframe tbody tr th {\n",
       "        vertical-align: top;\n",
       "    }\n",
       "\n",
       "    .dataframe thead th {\n",
       "        text-align: right;\n",
       "    }\n",
       "</style>\n",
       "<table border=\"1\" class=\"dataframe\">\n",
       "  <thead>\n",
       "    <tr style=\"text-align: right;\">\n",
       "      <th></th>\n",
       "      <th>Amount</th>\n",
       "    </tr>\n",
       "  </thead>\n",
       "  <tbody>\n",
       "    <tr>\n",
       "      <th>count</th>\n",
       "      <td>5.686300e+05</td>\n",
       "    </tr>\n",
       "    <tr>\n",
       "      <th>mean</th>\n",
       "      <td>-4.398485e-18</td>\n",
       "    </tr>\n",
       "    <tr>\n",
       "      <th>std</th>\n",
       "      <td>1.000001e+00</td>\n",
       "    </tr>\n",
       "    <tr>\n",
       "      <th>min</th>\n",
       "      <td>-4.234909e-01</td>\n",
       "    </tr>\n",
       "    <tr>\n",
       "      <th>25%</th>\n",
       "      <td>-4.126068e-01</td>\n",
       "    </tr>\n",
       "    <tr>\n",
       "      <th>50%</th>\n",
       "      <td>-3.254165e-01</td>\n",
       "    </tr>\n",
       "    <tr>\n",
       "      <th>75%</th>\n",
       "      <td>1.182922e-02</td>\n",
       "    </tr>\n",
       "    <tr>\n",
       "      <th>max</th>\n",
       "      <td>1.114265e+02</td>\n",
       "    </tr>\n",
       "  </tbody>\n",
       "</table>\n",
       "</div>"
      ],
      "text/plain": [
       "             Amount\n",
       "count  5.686300e+05\n",
       "mean  -4.398485e-18\n",
       "std    1.000001e+00\n",
       "min   -4.234909e-01\n",
       "25%   -4.126068e-01\n",
       "50%   -3.254165e-01\n",
       "75%    1.182922e-02\n",
       "max    1.114265e+02"
      ]
     },
     "execution_count": 26,
     "metadata": {},
     "output_type": "execute_result"
    }
   ],
   "source": [
    "from sklearn.preprocessing import StandardScaler\n",
    "import pandas as pd\n",
    "\n",
    "# 📌 SMOTE 적용 결과를 DataFrame으로\n",
    "df_smote_scaled = pd.DataFrame(X_smote, columns=X.columns)\n",
    "df_smote_scaled['Class'] = y_smote\n",
    "\n",
    "# Amount 정규화\n",
    "scaler = StandardScaler()\n",
    "df_smote_scaled['Amount'] = scaler.fit_transform(df_smote_scaled[['Amount']])\n",
    "\n",
    "# 확인\n",
    "df_smote_scaled[['Amount']].describe()"
   ]
  },
  {
   "cell_type": "markdown",
   "metadata": {},
   "source": [
    "🔍 해석\n",
    "\n",
    "count  |  5.686300e+05   → 총 568,630건의 거래 데이터 (SMOTE로 클래스 수 맞춘 후 전체 수 늘어남)\n",
    "\n",
    "mean  |  -4.398485e-18   → 평균값은 거의 0 (표준화가 잘 됨을 의미)\n",
    "\n",
    "std   |   1.000001e+00   → 표준편차는 1 (정규화된 범위 기준)\n",
    "\n",
    "min  |   -4.234909e-01   → 가장 낮은 값은 약 -0.42\n",
    "\n",
    "25%   |  -4.126068e-01   → 하위 25% 지점도 약 -0.41 (대부분 값이 음수에 몰려 있음)\n",
    "\n",
    "50%   |  -3.254165e-01   → 중앙값은 약 -0.33\n",
    "\n",
    "75%   |   1.182922e-02   → 상위 25% 지점부터 양수\n",
    "\n",
    "max   |   1.114265e+02   → 최대값은 약 111.4\n",
    "\n",
    "\n",
    "\n",
    "➡️ 거래 금액의 분포가 한쪽에 치우쳐져 있었기 때문에, 정규화 이후에도 음수 쪽에 값이 많고, 일부 큰 값(이상치)이 존재함\n",
    "\n",
    "➡️ 하지만 평균과 표준편차 기준으로는 정규화가 잘 적용됨 (mean ≈ 0, std ≈ 1)"
   ]
  },
  {
   "cell_type": "markdown",
   "metadata": {},
   "source": [
    "___"
   ]
  },
  {
   "cell_type": "markdown",
   "metadata": {},
   "source": [
    "## 🤖 2. 모델 학습 및 비교"
   ]
  },
  {
   "cell_type": "markdown",
   "metadata": {},
   "source": [
    "### 📌 2-1. 기본 모델 - 로지스틱 회귀 (Logistic Regression)\n",
    "\n",
    "💡 설명\n",
    "- 이진 분류(Binary Classification) 문제를 해결하기 위해 널리 사용되는 선형 모델\n",
    "- 선형 회귀와 달리 출력값을 0~1 사이의 확률로 바꾸기 위해 시그모이드 함수(𝜎) 사용\n",
    "- 확률이 특정 임계값(보통 0.5)을 넘으면 클래스 1, 아니면 클래스 0으로 분류"
   ]
  },
  {
   "cell_type": "code",
   "execution_count": 27,
   "metadata": {},
   "outputs": [],
   "source": [
    "from sklearn.model_selection import train_test_split\n",
    "\n",
    "X_train, X_test, y_train, y_test = train_test_split(\n",
    "    X_smote, y_smote, test_size=0.2, random_state=42, stratify=y_smote\n",
    ")"
   ]
  },
  {
   "cell_type": "code",
   "execution_count": 28,
   "metadata": {},
   "outputs": [
    {
     "name": "stdout",
     "output_type": "stream",
     "text": [
      "🔵 [Logistic Regression]\n",
      "              precision    recall  f1-score   support\n",
      "\n",
      "           0     0.9226    0.9743    0.9477     56863\n",
      "           1     0.9727    0.9182    0.9447     56863\n",
      "\n",
      "    accuracy                         0.9462    113726\n",
      "   macro avg     0.9477    0.9462    0.9462    113726\n",
      "weighted avg     0.9477    0.9462    0.9462    113726\n",
      "\n"
     ]
    }
   ],
   "source": [
    "from sklearn.linear_model import LogisticRegression\n",
    "from sklearn.metrics import classification_report\n",
    "\n",
    "# 모델 정의 및 학습\n",
    "lr_model = LogisticRegression(max_iter=1000, random_state=42)\n",
    "lr_model.fit(X_train, y_train)\n",
    "\n",
    "# 예측\n",
    "y_pred_lr = lr_model.predict(X_test)\n",
    "\n",
    "# 결과 확인\n",
    "print(\"🔵 [Logistic Regression]\")\n",
    "print(classification_report(y_test, y_pred_lr, digits=4))"
   ]
  },
  {
   "cell_type": "markdown",
   "metadata": {},
   "source": [
    "🔍 해석\n",
    "- 정상 거래(0)의 recall이 0.97로 높은 이유는 대부분의 거래가 정상이라 잘 분류됨\n",
    "- 사기 거래(1)의 precision이 0.97로 매우 높아, 예측된 사기 중 거의 다가 진짜 사기\n",
    "- 반대로 recall이 0.9182로 다소 낮은 건 여전히 일부 사기 거래를 놓쳤다는 것을 의미\n",
    "- 전체 accuracy 94.62%는 굉장히 높지만, SMOTE로 균형 잡았기 때문에 신뢰 가능한 수치\n",
    "\n",
    "➡️ SMOTE로 클래스 비율을 균형 맞춘 후 모델 학습을 수행하였고, Logistic Regression에서도 precision과 recall이 모두 0.92 이상을 기록하며 균형 잡힌 분류 성능을 보임\n",
    "\n",
    "➡️ 특히 사기 탐지(클래스 1)의 precision이 높아, 실제 탐지된 사기의 정확성이 높다는 장점이 있음\n"
   ]
  },
  {
   "cell_type": "markdown",
   "metadata": {},
   "source": [
    "---"
   ]
  },
  {
   "cell_type": "markdown",
   "metadata": {},
   "source": [
    "### 📌 2-2. 기본 모델 - Decision Tree"
   ]
  },
  {
   "cell_type": "code",
   "execution_count": 29,
   "metadata": {},
   "outputs": [
    {
     "name": "stdout",
     "output_type": "stream",
     "text": [
      "🌳 [Decision Tree]\n",
      "              precision    recall  f1-score   support\n",
      "\n",
      "           0     0.9447    0.9627    0.9536     56863\n",
      "           1     0.9620    0.9437    0.9527     56863\n",
      "\n",
      "    accuracy                         0.9532    113726\n",
      "   macro avg     0.9534    0.9532    0.9532    113726\n",
      "weighted avg     0.9534    0.9532    0.9532    113726\n",
      "\n"
     ]
    }
   ],
   "source": [
    "from sklearn.tree import DecisionTreeClassifier\n",
    "from sklearn.metrics import classification_report\n",
    "\n",
    "# 모델 정의 및 학습\n",
    "dt_model = DecisionTreeClassifier(random_state=42, max_depth=5)\n",
    "dt_model.fit(X_train, y_train)\n",
    "\n",
    "# 예측\n",
    "y_pred_dt = dt_model.predict(X_test)\n",
    "\n",
    "# 결과 확인\n",
    "print(\"🌳 [Decision Tree]\")\n",
    "print(classification_report(y_test, y_pred_dt, digits=4))"
   ]
  },
  {
   "cell_type": "markdown",
   "metadata": {},
   "source": [
    "🔍 해석\n",
    "- 정상 거래(0)의 recall이 0.9627로 매우 높아, 대부분의 정상 거래를 잘 식별\n",
    "- 사기 거래(1)의 precision이 0.9620, recall도 0.9437로 높은 수준 → 예측된 사기 중 대부분이 실제 사기였고, 놓친 것도 상대적으로 적음\n",
    "- 전체 accuracy 95.32%, macro avg / weighted avg F1-score도 모두 0.953 이상으로 우수한 성능을 보임\n",
    "\n",
    "➡️ Decision Tree는 간단한 모델임에도 불구하고 클래스 간 균형 잡힌 성능을 보여주며, 특히 사기 거래 탐지에서도 precision-recall 모두 안정적인 수준을 유지\n",
    "\n",
    "➡️ 복잡한 모델 없이도 높은 해석력과 안정성을 제공하므로, 빠르고 명확한 판단이 중요한 금융 환경에서 유용"
   ]
  },
  {
   "cell_type": "markdown",
   "metadata": {},
   "source": [
    "---"
   ]
  },
  {
   "cell_type": "markdown",
   "metadata": {},
   "source": [
    "### 📌 2.5 고급 모델 - Random Forest"
   ]
  },
  {
   "cell_type": "code",
   "execution_count": 30,
   "metadata": {},
   "outputs": [
    {
     "name": "stdout",
     "output_type": "stream",
     "text": [
      "🌲 [Random Forest]\n",
      "              precision    recall  f1-score   support\n",
      "\n",
      "           0     1.0000    0.9997    0.9999     56863\n",
      "           1     0.9997    1.0000    0.9999     56863\n",
      "\n",
      "    accuracy                         0.9999    113726\n",
      "   macro avg     0.9999    0.9999    0.9999    113726\n",
      "weighted avg     0.9999    0.9999    0.9999    113726\n",
      "\n"
     ]
    }
   ],
   "source": [
    "from sklearn.ensemble import RandomForestClassifier\n",
    "from sklearn.metrics import classification_report\n",
    "\n",
    "# 모델 정의 및 학습\n",
    "rf_model = RandomForestClassifier(n_estimators=100, random_state=42)\n",
    "rf_model.fit(X_train, y_train)\n",
    "\n",
    "# 예측\n",
    "y_pred_rf = rf_model.predict(X_test)\n",
    "\n",
    "# 결과 출력\n",
    "print(\"🌲 [Random Forest]\")\n",
    "print(classification_report(y_test, y_pred_rf, digits=4))"
   ]
  },
  {
   "cell_type": "markdown",
   "metadata": {},
   "source": [
    "🔍 해석\n",
    "- 정상 거래(0)의 precision: 1.0000 / recall: 0.9997 → 거의 모든 정상 거래를 정확하게 예측함\n",
    "- 사기 거래(1)의 precision: 0.9997 / recall: 1.0000 → 탐지된 사기 거래 중 거의 모두 실제 사기이며, 놓친 건 없음\n",
    "- accuracy 0.9999는 모델이 전체적으로 매우 뛰어난 분류 성능을 보였음을 의미\n",
    "- 특히 SMOTE로 클래스 균형을 맞춘 후 Random Forest를 적용했을 때, 거의 완벽에 가까운 성능을 나타냄\n",
    "\n",
    "➡️ 랜덤포레스트는 복잡한 비선형 패턴도 잘 잡아내는 앙상블 모델로, 이상치 탐지 성능이 매우 우수함\n",
    "\n",
    "➡️ 실제 적용 가능성이 높은 안정적인 모델 중 하나로 판단됨"
   ]
  },
  {
   "cell_type": "markdown",
   "metadata": {},
   "source": [
    "### 📌 2.6 고급 모델 - XGBoost"
   ]
  },
  {
   "cell_type": "code",
   "execution_count": 31,
   "metadata": {},
   "outputs": [
    {
     "name": "stderr",
     "output_type": "stream",
     "text": [
      "/Library/Frameworks/Python.framework/Versions/3.12/lib/python3.12/site-packages/xgboost/core.py:158: UserWarning: [06:12:43] WARNING: /Users/runner/work/xgboost/xgboost/src/learner.cc:740: \n",
      "Parameters: { \"use_label_encoder\" } are not used.\n",
      "\n",
      "  warnings.warn(smsg, UserWarning)\n"
     ]
    },
    {
     "name": "stdout",
     "output_type": "stream",
     "text": [
      "📦 [XGBoost]\n",
      "              precision    recall  f1-score   support\n",
      "\n",
      "           0     1.0000    0.9993    0.9996     56863\n",
      "           1     0.9993    1.0000    0.9996     56863\n",
      "\n",
      "    accuracy                         0.9996    113726\n",
      "   macro avg     0.9996    0.9996    0.9996    113726\n",
      "weighted avg     0.9996    0.9996    0.9996    113726\n",
      "\n"
     ]
    }
   ],
   "source": [
    "from xgboost import XGBClassifier\n",
    "\n",
    "# 모델 정의 및 학습\n",
    "xgb_model = XGBClassifier(use_label_encoder=False, eval_metric='logloss', random_state=42)\n",
    "xgb_model.fit(X_train, y_train)\n",
    "\n",
    "# 예측\n",
    "y_pred_xgb = xgb_model.predict(X_test)\n",
    "\n",
    "# 결과 출력\n",
    "print(\"📦 [XGBoost]\")\n",
    "print(classification_report(y_test, y_pred_xgb, digits=4))"
   ]
  },
  {
   "cell_type": "markdown",
   "metadata": {},
   "source": [
    "🔍 해석\n",
    "- 정상 거래(0): precision = 1.0000, recall = 0.9993 → 정상 거래는 거의 100% 정확하게 분류됨\n",
    "- 사기 거래(1): precision = 0.9993, recall = 1.0000 → 사기 거래를 놓치지 않고 모두 탐지\n",
    "- 전체 accuracy 0.9996, macro/weighted 평균도 모두 0.9996 → 모델이 거의 완벽하게 분류한 수준\n",
    "\n",
    "➡️ XGBoost는 Gradient Boosting 기반으로 학습하며, 개별 오차를 반복적으로 줄여나가 뛰어난 성능을 보임\n",
    "\n",
    "➡️ 랜덤 포레스트와 마찬가지로 비선형 패턴 탐지에 강하고, 특히 데이터 불균형 문제를 해결한 이후에는 사기 탐지(class 1) 성능이 매우 뛰어남"
   ]
  },
  {
   "cell_type": "markdown",
   "metadata": {},
   "source": [
    "### 📌 2.7 고급 모델 - Isolation Forest\n",
    "\n",
    "💡섦명\n",
    "- 이상치(anomaly)를 격리하는 방식으로 탐지하는 비지도 학습 알고리즘\n",
    "- 트리를 무작위로 구성하고, 데이터가 얼마나 빨리 고립되는지를 측정하여 이상치를 판단\n",
    "- 주로 이상 탐지(Anomaly Detection)에 특화됨"
   ]
  },
  {
   "cell_type": "code",
   "execution_count": null,
   "metadata": {},
   "outputs": [
    {
     "name": "stdout",
     "output_type": "stream",
     "text": [
      "🧊 [Isolation Forest]\n",
      "              precision    recall  f1-score   support\n",
      "\n",
      "           0     0.5008    1.0000    0.6674     56863\n",
      "           1     1.0000    0.0033    0.0067     56863\n",
      "\n",
      "    accuracy                         0.5017    113726\n",
      "   macro avg     0.7504    0.5017    0.3370    113726\n",
      "weighted avg     0.7504    0.5017    0.3370    113726\n",
      "\n"
     ]
    }
   ],
   "source": [
    "from sklearn.ensemble import IsolationForest\n",
    "from sklearn.metrics import classification_report\n",
    "\n",
    "# 모델 정의 및 학습\n",
    "iso_model = IsolationForest(n_estimators=100, contamination=0.0017, random_state=42)\n",
    "iso_model.fit(X_train)\n",
    "\n",
    "# 예측 (Isolation Forest는 이상치를 -1로 반환함)\n",
    "y_pred_iso = iso_model.predict(X_test)\n",
    "y_pred_iso = [1 if x == -1 else 0 for x in y_pred_iso]\n",
    "\n",
    "# 결과 출력\n",
    "print(\"🧊 [Isolation Forest]\")\n",
    "print(classification_report(y_test, y_pred_iso, digits=4))\n"
   ]
  },
  {
   "cell_type": "markdown",
   "metadata": {},
   "source": [
    "🔍 해석 \n",
    "- 정상 거래(0):Precision = 0.5008, Recall = 1.0000 → 정상 거래는 모두 탐지했지만, 예측된 정상 중 절반은 사기로 잘못 판단\n",
    "- 사기 거래(1): Precision = 1.0000, Recall = 0.0033 → 탐지된 사기 중 실제로는 모두 사기였지만, 대부분의 사기를 놓쳤음\n",
    "- Accuracy = 0.5017 → 전체적으로 예측을 거의 절반 확률로 맞춘 셈\n",
    "- F1-score (class 1)는 0.0067로 매우 낮음, 실전에서는 사용 어려움\n",
    "\n",
    "➡️ Isolation Forest는 비지도 학습 기반 이상 탐지 모델로 사전 라벨링이 필요 없어 편리하지만, 이처럼 불균형 데이터에선 거의 모든 데이터를 정상으로 판단하는 경향이 있어 실제 사기를 잘 잡아내지 못함\n",
    "\n",
    "➡️ 정상 클래스 비율이 높은 데이터에서는 한계가 있음 → 정교한 이상탐지에는 비지도보다는 지도 학습 기반 접근이 효과적"
   ]
  },
  {
   "cell_type": "markdown",
   "metadata": {},
   "source": [
    "---"
   ]
  },
  {
   "cell_type": "markdown",
   "metadata": {},
   "source": [
    "### 📌 2.8 딥러닝 모델 - Autoencoder 기반 이상탐지\n",
    "\n",
    "💡 설명\n",
    "- Autoencoder는 입력 데이터를 압축(encoding)한 뒤 다시 복원(decoding)하도록 학습하는 비지도 학습 신경망\n",
    "- 정상 데이터를 기반으로 학습한 후, 입력과 출력의 재구성 오차(Reconstruction Error)가 큰 데이터를 이상치로 판단"
   ]
  },
  {
   "cell_type": "code",
   "execution_count": 33,
   "metadata": {},
   "outputs": [
    {
     "name": "stdout",
     "output_type": "stream",
     "text": [
      "Epoch 1/10\n",
      "\u001b[1m1777/1777\u001b[0m \u001b[32m━━━━━━━━━━━━━━━━━━━━\u001b[0m\u001b[37m\u001b[0m \u001b[1m1s\u001b[0m 406us/step - loss: 1.0137 - val_loss: 13.7368\n",
      "Epoch 2/10\n",
      "\u001b[1m1777/1777\u001b[0m \u001b[32m━━━━━━━━━━━━━━━━━━━━\u001b[0m\u001b[37m\u001b[0m \u001b[1m1s\u001b[0m 348us/step - loss: 0.7799 - val_loss: 13.8513\n",
      "Epoch 3/10\n",
      "\u001b[1m1777/1777\u001b[0m \u001b[32m━━━━━━━━━━━━━━━━━━━━\u001b[0m\u001b[37m\u001b[0m \u001b[1m1s\u001b[0m 336us/step - loss: 0.7742 - val_loss: 13.9071\n",
      "Epoch 4/10\n",
      "\u001b[1m1777/1777\u001b[0m \u001b[32m━━━━━━━━━━━━━━━━━━━━\u001b[0m\u001b[37m\u001b[0m \u001b[1m1s\u001b[0m 381us/step - loss: 0.7788 - val_loss: 13.8458\n",
      "Epoch 5/10\n",
      "\u001b[1m1777/1777\u001b[0m \u001b[32m━━━━━━━━━━━━━━━━━━━━\u001b[0m\u001b[37m\u001b[0m \u001b[1m1s\u001b[0m 347us/step - loss: 0.7432 - val_loss: 13.8044\n",
      "Epoch 6/10\n",
      "\u001b[1m1777/1777\u001b[0m \u001b[32m━━━━━━━━━━━━━━━━━━━━\u001b[0m\u001b[37m\u001b[0m \u001b[1m1s\u001b[0m 337us/step - loss: 0.7539 - val_loss: 13.7834\n",
      "Epoch 7/10\n",
      "\u001b[1m1777/1777\u001b[0m \u001b[32m━━━━━━━━━━━━━━━━━━━━\u001b[0m\u001b[37m\u001b[0m \u001b[1m1s\u001b[0m 339us/step - loss: 0.7500 - val_loss: 13.7594\n",
      "Epoch 8/10\n",
      "\u001b[1m1777/1777\u001b[0m \u001b[32m━━━━━━━━━━━━━━━━━━━━\u001b[0m\u001b[37m\u001b[0m \u001b[1m1s\u001b[0m 376us/step - loss: 0.7478 - val_loss: 13.7470\n",
      "Epoch 9/10\n",
      "\u001b[1m1777/1777\u001b[0m \u001b[32m━━━━━━━━━━━━━━━━━━━━\u001b[0m\u001b[37m\u001b[0m \u001b[1m1s\u001b[0m 347us/step - loss: 0.7538 - val_loss: 13.7393\n",
      "Epoch 10/10\n",
      "\u001b[1m1777/1777\u001b[0m \u001b[32m━━━━━━━━━━━━━━━━━━━━\u001b[0m\u001b[37m\u001b[0m \u001b[1m1s\u001b[0m 335us/step - loss: 0.7425 - val_loss: 13.7302\n"
     ]
    }
   ],
   "source": [
    "from tensorflow.keras.models import Model\n",
    "from tensorflow.keras.layers import Input, Dense\n",
    "from tensorflow.keras.optimizers import Adam\n",
    "from sklearn.metrics import classification_report\n",
    "import numpy as np\n",
    "\n",
    "#  Autoencoder 구조 정의\n",
    "input_dim = X_train.shape[1]\n",
    "encoding_dim = 14  # 압축 차원\n",
    "\n",
    "input_layer = Input(shape=(input_dim,))\n",
    "encoded = Dense(encoding_dim, activation='relu')(input_layer)\n",
    "decoded = Dense(input_dim, activation='sigmoid')(encoded)\n",
    "\n",
    "autoencoder = Model(inputs=input_layer, outputs=decoded)\n",
    "autoencoder.compile(optimizer=Adam(learning_rate=0.001), loss='mse')\n",
    "\n",
    "#  Autoencoder 학습 (정상 거래만 사용)\n",
    "X_train_auto = X_train[y_train == 0]  # 정상 거래만\n",
    "X_test_auto = X_test  # 테스트는 전체\n",
    "\n",
    "history = autoencoder.fit(\n",
    "    X_train_auto, X_train_auto,\n",
    "    epochs=10,\n",
    "    batch_size=128,\n",
    "    shuffle=True,\n",
    "    validation_data=(X_test_auto, X_test_auto),\n",
    "    verbose=1\n",
    ")"
   ]
  },
  {
   "cell_type": "code",
   "execution_count": 34,
   "metadata": {},
   "outputs": [
    {
     "name": "stdout",
     "output_type": "stream",
     "text": [
      "\u001b[1m3554/3554\u001b[0m \u001b[32m━━━━━━━━━━━━━━━━━━━━\u001b[0m\u001b[37m\u001b[0m \u001b[1m1s\u001b[0m 217us/step\n",
      "🧠 [Autoencoder]\n",
      "              precision    recall  f1-score   support\n",
      "\n",
      "           0     0.5262    0.9997    0.6894     56863\n",
      "           1     0.9968    0.0997    0.1813     56863\n",
      "\n",
      "    accuracy                         0.5497    113726\n",
      "   macro avg     0.7615    0.5497    0.4354    113726\n",
      "weighted avg     0.7615    0.5497    0.4354    113726\n",
      "\n"
     ]
    }
   ],
   "source": [
    "#  테스트 데이터 재구성\n",
    "X_test_pred = autoencoder.predict(X_test)\n",
    "mse = np.mean(np.square(X_test - X_test_pred), axis=1)\n",
    "\n",
    "#  임계값 설정 (예: 95% 이상을 이상치로 판단)\n",
    "threshold = np.percentile(mse, 95)\n",
    "\n",
    "#  이상 탐지 결과\n",
    "y_pred_ae = (mse > threshold).astype(int)\n",
    "\n",
    "#  결과 평가\n",
    "print(\"🧠 [Autoencoder]\")\n",
    "print(classification_report(y_test, y_pred_ae, digits=4))"
   ]
  },
  {
   "cell_type": "markdown",
   "metadata": {},
   "source": [
    "🔍 해석\n",
    "- 정확도(Accuracy): 54.94% → SMOTE 적용 후인데도 낮은 편\n",
    "- Macro 평균 F1-score: 0.4347 → 전반적으로 불균형한 성능\n",
    "- 사기 탐지(클래스 1)에서 precision은 0.99로 매우 높지만, recall은 0.09로 매우 낮음 → 탐지된 사기는 거의 다 진짜지만, 탐지 못 한 사기가 너무 많음\n",
    "\n",
    "📌 정리\n",
    "- Autoencoder는 이상 탐지를 위해 설계된 모델이지만,\n",
    "- 일반적인 분류 모델(로지스틱 회귀, 의사결정나무 등)에 비해 사기 탐지 recall이 매우 낮음\n",
    "- 이는 Autoencoder가 재구성 오류로만 이상을 판단하기 때문에, 사기의 패턴이 뚜렷하지 않으면 놓치기 쉬움\n",
    "\n",
    "➡️ Autoencoder는 \"탐지된 사기는 거의 다 진짜\"라는 장점이 있지만, 놓치는 사기가 너무 많다(recall↓)는 치명적인 단점이 있음\n",
    "\n",
    "➡️ 사기 탐지 목적이라면 XGBoost나 Decision Tree 등 다른 모델이 더 적합할 수 있음\n",
    "\n"
   ]
  },
  {
   "cell_type": "markdown",
   "metadata": {},
   "source": [
    "___"
   ]
  },
  {
   "cell_type": "markdown",
   "metadata": {},
   "source": [
    "## 📊 3. 모델 평가\n",
    "\n",
    "💡설명\n",
    "- AUC-ROC Curve: 분류 성능 전반을 평가\n",
    "- Precision-Recall Curve: 특히 불균형 데이터에서 유용 (사기 거래 탐지 상황에 적합)"
   ]
  },
  {
   "cell_type": "code",
   "execution_count": 35,
   "metadata": {},
   "outputs": [],
   "source": [
    "from sklearn.metrics import roc_auc_score, precision_score, recall_score\n",
    "\n",
    "# 예측 결과 목록\n",
    "model_names = [\n",
    "    'Logistic Regression', 'Decision Tree', 'Random Forest',\n",
    "    'XGBoost', 'Isolation Forest', 'Autoencoder'\n",
    "]\n",
    "\n",
    "# 예측값 목록 (이미 예측된 값이 있어야 함)\n",
    "y_preds = [y_pred_lr, y_pred_dt, y_pred_rf, y_pred_xgb, y_pred_iso, y_pred_ae]\n",
    "\n",
    "# 지표 계산\n",
    "auc_scores = []\n",
    "precisions = []\n",
    "recalls = []\n",
    "\n",
    "for y_pred in y_preds:\n",
    "    auc_scores.append(roc_auc_score(y_test, y_pred))\n",
    "    precisions.append(precision_score(y_test, y_pred))\n",
    "    recalls.append(recall_score(y_test, y_pred))"
   ]
  },
  {
   "cell_type": "code",
   "execution_count": 36,
   "metadata": {},
   "outputs": [
    {
     "data": {
      "text/html": [
       "<div>\n",
       "<style scoped>\n",
       "    .dataframe tbody tr th:only-of-type {\n",
       "        vertical-align: middle;\n",
       "    }\n",
       "\n",
       "    .dataframe tbody tr th {\n",
       "        vertical-align: top;\n",
       "    }\n",
       "\n",
       "    .dataframe thead th {\n",
       "        text-align: right;\n",
       "    }\n",
       "</style>\n",
       "<table border=\"1\" class=\"dataframe\">\n",
       "  <thead>\n",
       "    <tr style=\"text-align: right;\">\n",
       "      <th></th>\n",
       "      <th>Model</th>\n",
       "      <th>AUC-ROC</th>\n",
       "      <th>Precision</th>\n",
       "      <th>Recall</th>\n",
       "    </tr>\n",
       "  </thead>\n",
       "  <tbody>\n",
       "    <tr>\n",
       "      <th>0</th>\n",
       "      <td>Logistic Regression</td>\n",
       "      <td>0.9462</td>\n",
       "      <td>0.9727</td>\n",
       "      <td>0.9182</td>\n",
       "    </tr>\n",
       "    <tr>\n",
       "      <th>1</th>\n",
       "      <td>Decision Tree</td>\n",
       "      <td>0.9532</td>\n",
       "      <td>0.9620</td>\n",
       "      <td>0.9437</td>\n",
       "    </tr>\n",
       "    <tr>\n",
       "      <th>2</th>\n",
       "      <td>Random Forest</td>\n",
       "      <td>0.9999</td>\n",
       "      <td>0.9997</td>\n",
       "      <td>1.0000</td>\n",
       "    </tr>\n",
       "    <tr>\n",
       "      <th>3</th>\n",
       "      <td>XGBoost</td>\n",
       "      <td>0.9996</td>\n",
       "      <td>0.9993</td>\n",
       "      <td>1.0000</td>\n",
       "    </tr>\n",
       "    <tr>\n",
       "      <th>4</th>\n",
       "      <td>Isolation Forest</td>\n",
       "      <td>0.5017</td>\n",
       "      <td>1.0000</td>\n",
       "      <td>0.0033</td>\n",
       "    </tr>\n",
       "    <tr>\n",
       "      <th>5</th>\n",
       "      <td>Autoencoder</td>\n",
       "      <td>0.5497</td>\n",
       "      <td>0.9968</td>\n",
       "      <td>0.0997</td>\n",
       "    </tr>\n",
       "  </tbody>\n",
       "</table>\n",
       "</div>"
      ],
      "text/plain": [
       "                 Model  AUC-ROC  Precision  Recall\n",
       "0  Logistic Regression   0.9462     0.9727  0.9182\n",
       "1        Decision Tree   0.9532     0.9620  0.9437\n",
       "2        Random Forest   0.9999     0.9997  1.0000\n",
       "3              XGBoost   0.9996     0.9993  1.0000\n",
       "4     Isolation Forest   0.5017     1.0000  0.0033\n",
       "5          Autoencoder   0.5497     0.9968  0.0997"
      ]
     },
     "execution_count": 36,
     "metadata": {},
     "output_type": "execute_result"
    }
   ],
   "source": [
    "# 결과 정리\n",
    "import pandas as pd\n",
    "results_df = pd.DataFrame({\n",
    "    'Model': model_names,\n",
    "    'AUC-ROC': auc_scores,\n",
    "    'Precision': precisions,\n",
    "    'Recall': recalls\n",
    "})\n",
    "\n",
    "# 소수점 반올림 및 출력\n",
    "results_df = results_df.round(4)\n",
    "results_df"
   ]
  },
  {
   "cell_type": "code",
   "execution_count": 40,
   "metadata": {},
   "outputs": [
    {
     "name": "stdout",
     "output_type": "stream",
     "text": [
      "\u001b[1m3554/3554\u001b[0m \u001b[32m━━━━━━━━━━━━━━━━━━━━\u001b[0m\u001b[37m\u001b[0m \u001b[1m1s\u001b[0m 201us/step\n"
     ]
    }
   ],
   "source": [
    "# 📌 Logistic Regression\n",
    "y_pred_proba_lr = lr_model.predict_proba(X_test)\n",
    "\n",
    "# 📌 Decision Tree\n",
    "y_pred_proba_dt = dt_model.predict_proba(X_test)\n",
    "\n",
    "# 📌 Random Forest\n",
    "y_pred_proba_rf = rf_model.predict_proba(X_test)\n",
    "\n",
    "# 📌 XGBoost (확률로 predict)\n",
    "y_pred_proba_xgb = xgb_model.predict_proba(X_test)[:, 1]  # 바로 클래스 1 확률 추출\n",
    "\n",
    "# 📌 Autoencoder - Reconstruction Error\n",
    "reconstructions = autoencoder.predict(X_test)\n",
    "mse = np.mean(np.power(X_test - reconstructions, 2), axis=1)\n",
    "y_pred_ae_prob = mse  # 오차가 곧 이상도 (score)"
   ]
  },
  {
   "cell_type": "code",
   "execution_count": 41,
   "metadata": {},
   "outputs": [
    {
     "data": {
      "image/png": "[encoded data removed]",
      "text/plain": [
       "<Figure size 1000x700 with 1 Axes>"
      ]
     },
     "metadata": {},
     "output_type": "display_data"
    }
   ],
   "source": [
    "from sklearn.metrics import precision_recall_curve, auc\n",
    "import matplotlib.pyplot as plt\n",
    "\n",
    "#  모델별 예측 확률 리스트 (클래스 1에 대한 확률)\n",
    "model_probs = {\n",
    "    \"Logistic Regression\": y_pred_proba_lr[:, 1],\n",
    "    \"Decision Tree\": y_pred_proba_dt[:, 1],\n",
    "    \"Random Forest\": y_pred_proba_rf[:, 1],\n",
    "    \"XGBoost\": y_pred_proba_xgb,  # XGB는 predict_proba 없이 predict면 확률로 나옴\n",
    "    \"Autoencoder\": y_pred_ae_prob  # Reconstruction error 기반\n",
    "}\n",
    "\n",
    "plt.figure(figsize=(10, 7))\n",
    "\n",
    "for model_name, y_score in model_probs.items():\n",
    "    precision, recall, _ = precision_recall_curve(y_test, y_score)\n",
    "    pr_auc = auc(recall, precision)\n",
    "    plt.plot(recall, precision, label=f\"{model_name} (AUC = {pr_auc:.4f})\")\n",
    "\n",
    "plt.title(\" Precision-Recall Curve by Model\")\n",
    "plt.xlabel(\"Recall\")\n",
    "plt.ylabel(\"Precision\")\n",
    "plt.legend(loc=\"lower left\")\n",
    "plt.grid(True)\n",
    "plt.show()"
   ]
  },
  {
   "cell_type": "markdown",
   "metadata": {},
   "source": [
    "🔍 해석\n",
    "\n",
    "Random Forest / XGBoost\n",
    "- 두 모델 모두 AUC-ROC와 PR AUC가 1.0000으로 완벽한 이상탐지 성능을 보여줌\n",
    "- SMOTE를 활용한 균형 잡힌 학습 덕분에 recall도 높음\n",
    "- 현실에서는 과적합 가능성 고려해 교차검증 필요\n",
    "\n",
    "Logistic Regression\n",
    "- 단순하지만 안정적인 결과, precision과 recall 모두 우수 (0.97 / 0.91)\n",
    "- 실제 적용에서 해석 가능성도 높아 현업 사용 가능성 좋음\n",
    "\n",
    "Decision Tree\n",
    "- 비슷한 수준이지만 약간의 과적합 경향. 성능은 좋지만 랜덤포레스트보다 열세\n",
    "\n",
    "Autoencoder\n",
    "- 딥러닝 기반의 비지도 학습 방식으로 Precision은 매우 높지만 Recall이 낮아 탐지 누락 위험 존재\n",
    "- Reconstruction Error 기반의 임계값 조정으로 성능 향상 여지 있음\n",
    "\n",
    "Isolation Forest\n",
    "- 비지도 이상탐지 전용 모델이지만, 이 데이터셋에서는 성능 부적절\n",
    "- Precision은 높지만 Recall이 낮아 의미 있는 탐지 불가"
   ]
  },
  {
   "cell_type": "markdown",
   "metadata": {},
   "source": [
    "➡️ 정밀하고 놓치지 않는 사기 탐지가 필요하다면 Random Forest, XGBoost가 최우수\n",
    "\n",
    "➡️ 모델 해석력과 빠른 추론 시간이 중요하다면 Logistic Regression도 좋은 대안\n",
    "\n",
    "➡️ Autoencoder는 비지도 학습 상황에서의 출발점으로 사용 가능하지만 성능 조정 필요"
   ]
  }
 ],
 "metadata": {
  "kernelspec": {
   "display_name": "Python 3",
   "language": "python",
   "name": "python3"
  },
  "language_info": {
   "codemirror_mode": {
    "name": "ipython",
    "version": 3
   },
   "file_extension": ".py",
   "mimetype": "text/x-python",
   "name": "python",
   "nbconvert_exporter": "python",
   "pygments_lexer": "ipython3",
   "version": "3.12.1"
  }
 },
 "nbformat": 4,
 "nbformat_minor": 2
}
