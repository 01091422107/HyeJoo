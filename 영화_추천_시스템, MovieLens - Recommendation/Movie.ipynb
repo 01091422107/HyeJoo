{
 "cells": [
  {
   "cell_type": "markdown",
   "metadata": {},
   "source": [
    "# 🎥 Movie - 추천 시스템"
   ]
  },
  {
   "cell_type": "markdown",
   "metadata": {},
   "source": [
    "## ✅ 1. 데이터 전처리\n",
    "\n",
    "### 📌 1-1. 데이터 로딩"
   ]
  },
  {
   "cell_type": "code",
   "execution_count": 1,
   "metadata": {},
   "outputs": [],
   "source": [
    "import pandas as pd\n",
    "\n",
    "# 평점 데이터\n",
    "ratings = pd.read_csv(\"/Users/lee_hyejoo/Desktop/hyejoo/학교/3학년 1학기/머신러닝/중간_대체/영화_추천_시스템, MovieLens - Recommendation/u.data\", sep=\"\\t\", header=None,\n",
    "                      names=[\"user_id\", \"item_id\", \"rating\", \"timestamp\"])\n",
    "\n",
    "# 영화 메타데이터\n",
    "movies = pd.read_csv(\"/Users/lee_hyejoo/Desktop/hyejoo/학교/3학년 1학기/머신러닝/중간_대체/영화_추천_시스템, MovieLens - Recommendation/u.item\", sep='|', header=None, encoding='latin-1',\n",
    "                     names=[\"item_id\", \"title\"] + [f\"col{i}\" for i in range(22)])\n",
    "\n",
    "# 필요한 컬럼만 추출\n",
    "movies = movies[[\"item_id\", \"title\"]]"
   ]
  },
  {
   "cell_type": "markdown",
   "metadata": {},
   "source": [
    "### 📌 1-2. 평점 테이블 병합"
   ]
  },
  {
   "cell_type": "code",
   "execution_count": 2,
   "metadata": {},
   "outputs": [
    {
     "data": {
      "text/html": [
       "<div>\n",
       "<style scoped>\n",
       "    .dataframe tbody tr th:only-of-type {\n",
       "        vertical-align: middle;\n",
       "    }\n",
       "\n",
       "    .dataframe tbody tr th {\n",
       "        vertical-align: top;\n",
       "    }\n",
       "\n",
       "    .dataframe thead th {\n",
       "        text-align: right;\n",
       "    }\n",
       "</style>\n",
       "<table border=\"1\" class=\"dataframe\">\n",
       "  <thead>\n",
       "    <tr style=\"text-align: right;\">\n",
       "      <th></th>\n",
       "      <th>user_id</th>\n",
       "      <th>item_id</th>\n",
       "      <th>rating</th>\n",
       "      <th>timestamp</th>\n",
       "      <th>title</th>\n",
       "    </tr>\n",
       "  </thead>\n",
       "  <tbody>\n",
       "    <tr>\n",
       "      <th>0</th>\n",
       "      <td>196</td>\n",
       "      <td>242</td>\n",
       "      <td>3</td>\n",
       "      <td>881250949</td>\n",
       "      <td>Kolya (1996)</td>\n",
       "    </tr>\n",
       "    <tr>\n",
       "      <th>1</th>\n",
       "      <td>186</td>\n",
       "      <td>302</td>\n",
       "      <td>3</td>\n",
       "      <td>891717742</td>\n",
       "      <td>L.A. Confidential (1997)</td>\n",
       "    </tr>\n",
       "    <tr>\n",
       "      <th>2</th>\n",
       "      <td>22</td>\n",
       "      <td>377</td>\n",
       "      <td>1</td>\n",
       "      <td>878887116</td>\n",
       "      <td>Heavyweights (1994)</td>\n",
       "    </tr>\n",
       "    <tr>\n",
       "      <th>3</th>\n",
       "      <td>244</td>\n",
       "      <td>51</td>\n",
       "      <td>2</td>\n",
       "      <td>880606923</td>\n",
       "      <td>Legends of the Fall (1994)</td>\n",
       "    </tr>\n",
       "    <tr>\n",
       "      <th>4</th>\n",
       "      <td>166</td>\n",
       "      <td>346</td>\n",
       "      <td>1</td>\n",
       "      <td>886397596</td>\n",
       "      <td>Jackie Brown (1997)</td>\n",
       "    </tr>\n",
       "  </tbody>\n",
       "</table>\n",
       "</div>"
      ],
      "text/plain": [
       "   user_id  item_id  rating  timestamp                       title\n",
       "0      196      242       3  881250949                Kolya (1996)\n",
       "1      186      302       3  891717742    L.A. Confidential (1997)\n",
       "2       22      377       1  878887116         Heavyweights (1994)\n",
       "3      244       51       2  880606923  Legends of the Fall (1994)\n",
       "4      166      346       1  886397596         Jackie Brown (1997)"
      ]
     },
     "execution_count": 2,
     "metadata": {},
     "output_type": "execute_result"
    }
   ],
   "source": [
    "# 평점 데이터에 영화 제목 추가\n",
    "ratings = pd.merge(ratings, movies, on=\"item_id\")\n",
    "\n",
    "# 상위 5개 샘플 확인\n",
    "ratings.head()"
   ]
  },
  {
   "cell_type": "markdown",
   "metadata": {},
   "source": [
    "### 📌1-3. 사용자-영화 평점 행렬 생성"
   ]
  },
  {
   "cell_type": "code",
   "execution_count": 3,
   "metadata": {},
   "outputs": [
    {
     "data": {
      "text/html": [
       "<div>\n",
       "<style scoped>\n",
       "    .dataframe tbody tr th:only-of-type {\n",
       "        vertical-align: middle;\n",
       "    }\n",
       "\n",
       "    .dataframe tbody tr th {\n",
       "        vertical-align: top;\n",
       "    }\n",
       "\n",
       "    .dataframe thead th {\n",
       "        text-align: right;\n",
       "    }\n",
       "</style>\n",
       "<table border=\"1\" class=\"dataframe\">\n",
       "  <thead>\n",
       "    <tr style=\"text-align: right;\">\n",
       "      <th>title</th>\n",
       "      <th>'Til There Was You (1997)</th>\n",
       "      <th>1-900 (1994)</th>\n",
       "      <th>101 Dalmatians (1996)</th>\n",
       "      <th>12 Angry Men (1957)</th>\n",
       "      <th>187 (1997)</th>\n",
       "      <th>2 Days in the Valley (1996)</th>\n",
       "      <th>20,000 Leagues Under the Sea (1954)</th>\n",
       "      <th>2001: A Space Odyssey (1968)</th>\n",
       "      <th>3 Ninjas: High Noon At Mega Mountain (1998)</th>\n",
       "      <th>39 Steps, The (1935)</th>\n",
       "      <th>...</th>\n",
       "      <th>Yankee Zulu (1994)</th>\n",
       "      <th>Year of the Horse (1997)</th>\n",
       "      <th>You So Crazy (1994)</th>\n",
       "      <th>Young Frankenstein (1974)</th>\n",
       "      <th>Young Guns (1988)</th>\n",
       "      <th>Young Guns II (1990)</th>\n",
       "      <th>Young Poisoner's Handbook, The (1995)</th>\n",
       "      <th>Zeus and Roxanne (1997)</th>\n",
       "      <th>unknown</th>\n",
       "      <th>Á köldum klaka (Cold Fever) (1994)</th>\n",
       "    </tr>\n",
       "    <tr>\n",
       "      <th>user_id</th>\n",
       "      <th></th>\n",
       "      <th></th>\n",
       "      <th></th>\n",
       "      <th></th>\n",
       "      <th></th>\n",
       "      <th></th>\n",
       "      <th></th>\n",
       "      <th></th>\n",
       "      <th></th>\n",
       "      <th></th>\n",
       "      <th></th>\n",
       "      <th></th>\n",
       "      <th></th>\n",
       "      <th></th>\n",
       "      <th></th>\n",
       "      <th></th>\n",
       "      <th></th>\n",
       "      <th></th>\n",
       "      <th></th>\n",
       "      <th></th>\n",
       "      <th></th>\n",
       "    </tr>\n",
       "  </thead>\n",
       "  <tbody>\n",
       "    <tr>\n",
       "      <th>1</th>\n",
       "      <td>NaN</td>\n",
       "      <td>NaN</td>\n",
       "      <td>2.0</td>\n",
       "      <td>5.0</td>\n",
       "      <td>NaN</td>\n",
       "      <td>NaN</td>\n",
       "      <td>3.0</td>\n",
       "      <td>4.0</td>\n",
       "      <td>NaN</td>\n",
       "      <td>NaN</td>\n",
       "      <td>...</td>\n",
       "      <td>NaN</td>\n",
       "      <td>NaN</td>\n",
       "      <td>NaN</td>\n",
       "      <td>5.0</td>\n",
       "      <td>3.0</td>\n",
       "      <td>NaN</td>\n",
       "      <td>NaN</td>\n",
       "      <td>NaN</td>\n",
       "      <td>4.0</td>\n",
       "      <td>NaN</td>\n",
       "    </tr>\n",
       "    <tr>\n",
       "      <th>2</th>\n",
       "      <td>NaN</td>\n",
       "      <td>NaN</td>\n",
       "      <td>NaN</td>\n",
       "      <td>NaN</td>\n",
       "      <td>NaN</td>\n",
       "      <td>NaN</td>\n",
       "      <td>NaN</td>\n",
       "      <td>NaN</td>\n",
       "      <td>1.0</td>\n",
       "      <td>NaN</td>\n",
       "      <td>...</td>\n",
       "      <td>NaN</td>\n",
       "      <td>NaN</td>\n",
       "      <td>NaN</td>\n",
       "      <td>NaN</td>\n",
       "      <td>NaN</td>\n",
       "      <td>NaN</td>\n",
       "      <td>NaN</td>\n",
       "      <td>NaN</td>\n",
       "      <td>NaN</td>\n",
       "      <td>NaN</td>\n",
       "    </tr>\n",
       "    <tr>\n",
       "      <th>3</th>\n",
       "      <td>NaN</td>\n",
       "      <td>NaN</td>\n",
       "      <td>NaN</td>\n",
       "      <td>NaN</td>\n",
       "      <td>2.0</td>\n",
       "      <td>NaN</td>\n",
       "      <td>NaN</td>\n",
       "      <td>NaN</td>\n",
       "      <td>NaN</td>\n",
       "      <td>NaN</td>\n",
       "      <td>...</td>\n",
       "      <td>NaN</td>\n",
       "      <td>NaN</td>\n",
       "      <td>NaN</td>\n",
       "      <td>NaN</td>\n",
       "      <td>NaN</td>\n",
       "      <td>NaN</td>\n",
       "      <td>NaN</td>\n",
       "      <td>NaN</td>\n",
       "      <td>NaN</td>\n",
       "      <td>NaN</td>\n",
       "    </tr>\n",
       "    <tr>\n",
       "      <th>4</th>\n",
       "      <td>NaN</td>\n",
       "      <td>NaN</td>\n",
       "      <td>NaN</td>\n",
       "      <td>NaN</td>\n",
       "      <td>NaN</td>\n",
       "      <td>NaN</td>\n",
       "      <td>NaN</td>\n",
       "      <td>NaN</td>\n",
       "      <td>NaN</td>\n",
       "      <td>NaN</td>\n",
       "      <td>...</td>\n",
       "      <td>NaN</td>\n",
       "      <td>NaN</td>\n",
       "      <td>NaN</td>\n",
       "      <td>NaN</td>\n",
       "      <td>NaN</td>\n",
       "      <td>NaN</td>\n",
       "      <td>NaN</td>\n",
       "      <td>NaN</td>\n",
       "      <td>NaN</td>\n",
       "      <td>NaN</td>\n",
       "    </tr>\n",
       "    <tr>\n",
       "      <th>5</th>\n",
       "      <td>NaN</td>\n",
       "      <td>NaN</td>\n",
       "      <td>2.0</td>\n",
       "      <td>NaN</td>\n",
       "      <td>NaN</td>\n",
       "      <td>NaN</td>\n",
       "      <td>NaN</td>\n",
       "      <td>4.0</td>\n",
       "      <td>NaN</td>\n",
       "      <td>NaN</td>\n",
       "      <td>...</td>\n",
       "      <td>NaN</td>\n",
       "      <td>NaN</td>\n",
       "      <td>NaN</td>\n",
       "      <td>4.0</td>\n",
       "      <td>NaN</td>\n",
       "      <td>NaN</td>\n",
       "      <td>NaN</td>\n",
       "      <td>NaN</td>\n",
       "      <td>4.0</td>\n",
       "      <td>NaN</td>\n",
       "    </tr>\n",
       "  </tbody>\n",
       "</table>\n",
       "<p>5 rows × 1664 columns</p>\n",
       "</div>"
      ],
      "text/plain": [
       "title    'Til There Was You (1997)  1-900 (1994)  101 Dalmatians (1996)  \\\n",
       "user_id                                                                   \n",
       "1                              NaN           NaN                    2.0   \n",
       "2                              NaN           NaN                    NaN   \n",
       "3                              NaN           NaN                    NaN   \n",
       "4                              NaN           NaN                    NaN   \n",
       "5                              NaN           NaN                    2.0   \n",
       "\n",
       "title    12 Angry Men (1957)  187 (1997)  2 Days in the Valley (1996)  \\\n",
       "user_id                                                                 \n",
       "1                        5.0         NaN                          NaN   \n",
       "2                        NaN         NaN                          NaN   \n",
       "3                        NaN         2.0                          NaN   \n",
       "4                        NaN         NaN                          NaN   \n",
       "5                        NaN         NaN                          NaN   \n",
       "\n",
       "title    20,000 Leagues Under the Sea (1954)  2001: A Space Odyssey (1968)  \\\n",
       "user_id                                                                      \n",
       "1                                        3.0                           4.0   \n",
       "2                                        NaN                           NaN   \n",
       "3                                        NaN                           NaN   \n",
       "4                                        NaN                           NaN   \n",
       "5                                        NaN                           4.0   \n",
       "\n",
       "title    3 Ninjas: High Noon At Mega Mountain (1998)  39 Steps, The (1935)  \\\n",
       "user_id                                                                      \n",
       "1                                                NaN                   NaN   \n",
       "2                                                1.0                   NaN   \n",
       "3                                                NaN                   NaN   \n",
       "4                                                NaN                   NaN   \n",
       "5                                                NaN                   NaN   \n",
       "\n",
       "title    ...  Yankee Zulu (1994)  Year of the Horse (1997)  \\\n",
       "user_id  ...                                                 \n",
       "1        ...                 NaN                       NaN   \n",
       "2        ...                 NaN                       NaN   \n",
       "3        ...                 NaN                       NaN   \n",
       "4        ...                 NaN                       NaN   \n",
       "5        ...                 NaN                       NaN   \n",
       "\n",
       "title    You So Crazy (1994)  Young Frankenstein (1974)  Young Guns (1988)  \\\n",
       "user_id                                                                      \n",
       "1                        NaN                        5.0                3.0   \n",
       "2                        NaN                        NaN                NaN   \n",
       "3                        NaN                        NaN                NaN   \n",
       "4                        NaN                        NaN                NaN   \n",
       "5                        NaN                        4.0                NaN   \n",
       "\n",
       "title    Young Guns II (1990)  Young Poisoner's Handbook, The (1995)  \\\n",
       "user_id                                                                \n",
       "1                         NaN                                    NaN   \n",
       "2                         NaN                                    NaN   \n",
       "3                         NaN                                    NaN   \n",
       "4                         NaN                                    NaN   \n",
       "5                         NaN                                    NaN   \n",
       "\n",
       "title    Zeus and Roxanne (1997)  unknown  Á köldum klaka (Cold Fever) (1994)  \n",
       "user_id                                                                        \n",
       "1                            NaN      4.0                                 NaN  \n",
       "2                            NaN      NaN                                 NaN  \n",
       "3                            NaN      NaN                                 NaN  \n",
       "4                            NaN      NaN                                 NaN  \n",
       "5                            NaN      4.0                                 NaN  \n",
       "\n",
       "[5 rows x 1664 columns]"
      ]
     },
     "execution_count": 3,
     "metadata": {},
     "output_type": "execute_result"
    }
   ],
   "source": [
    "# 사용자-영화 간 평점 행렬 생성\n",
    "user_item_matrix = ratings.pivot_table(index='user_id', columns='title', values='rating')\n",
    "\n",
    "# 일부 확인\n",
    "user_item_matrix.head()"
   ]
  },
  {
   "cell_type": "markdown",
   "metadata": {},
   "source": [
    "### 📌1-4. 데이터 희소성(Sparsity) 확인"
   ]
  },
  {
   "cell_type": "code",
   "execution_count": 4,
   "metadata": {},
   "outputs": [
    {
     "name": "stdout",
     "output_type": "stream",
     "text": [
      "행렬 크기: (943, 1664)\n",
      "전체 평점 수: 100000\n",
      "비어 있는 셀 수: 1469459\n"
     ]
    }
   ],
   "source": [
    "print(\"행렬 크기:\", user_item_matrix.shape)\n",
    "print(\"전체 평점 수:\", ratings.shape[0])\n",
    "print(\"비어 있는 셀 수:\", user_item_matrix.isna().sum().sum())"
   ]
  },
  {
   "cell_type": "markdown",
   "metadata": {},
   "source": [
    "---"
   ]
  },
  {
   "cell_type": "markdown",
   "metadata": {},
   "source": [
    "## 🤖 2. 추천 알고리즘 비교\n",
    "\n",
    "### 📌 2-1. 기본 모델 - User-Based 협업 필터링\n",
    "\n",
    "💡 설명\n",
    "- 사용자 기반 협업 필터링은 \"비슷한 취향을 가진 사용자\"를 찾고, 그 사용자가 높게 평가한 영화를 추천해주는 방식\n",
    "- 유사도는 코사인 유사도(Cosine Similarity)를 사용하며, 현재 사용자가 평가하지 않은 영화에 대해 유사 사용자의 평점을 기반으로 예측 점수 계산"
   ]
  },
  {
   "cell_type": "code",
   "execution_count": 5,
   "metadata": {},
   "outputs": [
    {
     "data": {
      "text/plain": [
       "[('Aiqing wansui (1994)', 5.0),\n",
       " ('Entertaining Angels: The Dorothy Day Story (1996)', 5.0),\n",
       " ('Great Day in Harlem, A (1994)', 5.0),\n",
       " ('Marlene Dietrich: Shadow and Light (1996) ', 5.0),\n",
       " ('Prefontaine (1997)', 5.0)]"
      ]
     },
     "execution_count": 5,
     "metadata": {},
     "output_type": "execute_result"
    }
   ],
   "source": [
    "from sklearn.metrics.pairwise import cosine_similarity\n",
    "import pandas as pd\n",
    "import numpy as np\n",
    "\n",
    "#  사용자 유사도 행렬 계산 (NaN을 0으로 대체)\n",
    "user_similarity = cosine_similarity(user_item_matrix.fillna(0))\n",
    "user_similarity_df = pd.DataFrame(user_similarity, index=user_item_matrix.index, columns=user_item_matrix.index)\n",
    "\n",
    "#  user_id=1 사용자의 추천 후보 계산\n",
    "user_id = 1\n",
    "user_ratings = user_item_matrix.loc[user_id]\n",
    "unseen_movies = user_ratings[user_ratings.isna()].index\n",
    "similar_users = user_similarity_df[user_id].drop(user_id)  # 자기 자신 제외\n",
    "\n",
    "weighted_scores = {}\n",
    "for movie in unseen_movies:\n",
    "    movie_ratings = user_item_matrix[movie]\n",
    "    relevant_ratings = movie_ratings[similar_users.index]\n",
    "    valid = relevant_ratings.notna()\n",
    "    if valid.sum() > 0:\n",
    "        score = np.dot(relevant_ratings[valid], similar_users[valid]) / similar_users[valid].sum()\n",
    "        weighted_scores[movie] = score\n",
    "\n",
    "#  추천 상위 5개\n",
    "top_5_recommendations = sorted(weighted_scores.items(), key=lambda x: x[1], reverse=True)[:5]\n",
    "top_5_recommendations"
   ]
  },
  {
   "cell_type": "markdown",
   "metadata": {},
   "source": [
    "🔍 결과 (user_id = 1 기준)\n",
    "- 위 영화들은 user_id=1이 아직 평가하지 않았지만, 비슷한 취향의 사용자들이 모두 높게 평가한 영화들\n",
    "- 모든 예측 평점이 5.0인 것은 유사 사용자 집단에서 일치된 강한 선호가 있었음을 의미\n",
    "- 이 방식은 직관적이지만, 희소한 데이터에서는 추천 품질이 낮아질 수 있음 → 다음 단계에서 개선"
   ]
  },
  {
   "cell_type": "markdown",
   "metadata": {},
   "source": [
    "---"
   ]
  },
  {
   "cell_type": "markdown",
   "metadata": {},
   "source": [
    "### 📌 2-2. 기본 모델 - Item-Based 협업 필터링\n",
    "\n",
    "💡 설명\n",
    "- 영화-영화 간 유사도(코사인 유사도)를 계산\n",
    "- 사용자가 평가한 영화들 중, 유사한 영화들의 평점과 유사도를 기반으로 예측 평점 계산\n",
    "- 아직 보지 않은 영화 중 예측 평점이 높은 영화 추천"
   ]
  },
  {
   "cell_type": "code",
   "execution_count": 6,
   "metadata": {},
   "outputs": [
    {
     "data": {
      "text/plain": [
       "[('Cyclo (1995)', 4.382758930148253),\n",
       " ('Little City (1998)', 4.2349259422153755),\n",
       " ('Office Killer (1997)', 4.229406245638664),\n",
       " ('Death in Brunswick (1991)', 4.226812532525961),\n",
       " ('Mamma Roma (1962)', 4.178130372636396)]"
      ]
     },
     "execution_count": 6,
     "metadata": {},
     "output_type": "execute_result"
    }
   ],
   "source": [
    "from sklearn.metrics.pairwise import cosine_similarity\n",
    "import numpy as np\n",
    "\n",
    "# 1. 영화 간 유사도 계산 (user-item matrix의 전치행렬 사용)\n",
    "item_similarity = cosine_similarity(user_item_matrix.T.fillna(0))\n",
    "item_similarity_df = pd.DataFrame(item_similarity, index=user_item_matrix.columns, columns=user_item_matrix.columns)\n",
    "\n",
    "# 2. 사용자(user_id=1)의 평점 가져오기\n",
    "user_id = 1\n",
    "user_ratings = user_item_matrix.loc[user_id]\n",
    "\n",
    "# 3. 사용자가 보지 않은 영화 중 예측 평점 계산\n",
    "predicted_scores = {}\n",
    "\n",
    "for movie in user_item_matrix.columns:\n",
    "    if pd.isna(user_ratings[movie]):  # 아직 평가하지 않은 영화만 대상\n",
    "        # 이 영화와 사용자가 본 영화 간 유사도 × 평점 → 가중 평균\n",
    "        sim_movies = item_similarity_df[movie][user_ratings.notna()]\n",
    "        sim_scores = sim_movies.values\n",
    "        known_ratings = user_ratings[user_ratings.notna()].values\n",
    "        if sim_scores.sum() != 0:\n",
    "            predicted_scores[movie] = np.dot(sim_scores, known_ratings) / sim_scores.sum()\n",
    "\n",
    "# 4. 상위 5개 추천 영화 출력\n",
    "item_based_top5 = sorted(predicted_scores.items(), key=lambda x: x[1], reverse=True)[:5]\n",
    "item_based_top5"
   ]
  },
  {
   "cell_type": "markdown",
   "metadata": {},
   "source": [
    "🔍 결과\n",
    "- 위 영화들은 user_id=1이 아직 평가하지 않았지만, 본인이 평가한 영화들과 유사한 영화들 중 예측 평점이 높은 항목들\n",
    "- 사용자 기반과 달리, 아이템 간 유사도를 사용해 추천하기 때문에 같은 영화라도 예전보다 더 일관된 추천 품질을 보여줄 수 있음\n",
    "- 예측 점수는 실제 평점이 아닌 모델이 계산한 \"예상 선호도\"이므로 → Top-N 추천 리스트 구성에 유용함"
   ]
  },
  {
   "cell_type": "markdown",
   "metadata": {},
   "source": [
    "---"
   ]
  },
  {
   "cell_type": "markdown",
   "metadata": {},
   "source": [
    "### 📌 2-3. 행렬 분해 - SVD\n",
    "\n",
    "💡 설명\n",
    "- 추천 시스템에서 널리 사용되는 행렬 분해 기반 협업 필터링 방법으로, 사용자-아이템 간 희소 행렬을 저차원 잠재 요인(latent factor) 공간으로 압축해\n",
    "유사도를 계산하고 예측 평점을 도출\n",
    "- 희소한 평점 행렬의 구조를 압축하면서도 정보 손실을 최소화할 수 있음\n",
    "- 협업 필터링보다 정밀한 사용자/아이템 관계 파악 가능\n"
   ]
  },
  {
   "cell_type": "code",
   "execution_count": 7,
   "metadata": {},
   "outputs": [],
   "source": [
    "# !/usr/local/bin/python3.12 -m pip install scikit-surprise"
   ]
  },
  {
   "cell_type": "code",
   "execution_count": 8,
   "metadata": {},
   "outputs": [
    {
     "name": "stdout",
     "output_type": "stream",
     "text": [
      "RMSE: 0.9351\n"
     ]
    },
    {
     "data": {
      "text/plain": [
       "0.9350622018483603"
      ]
     },
     "execution_count": 8,
     "metadata": {},
     "output_type": "execute_result"
    }
   ],
   "source": [
    "from surprise import SVD, Dataset, Reader\n",
    "from surprise.model_selection import train_test_split\n",
    "from surprise import accuracy\n",
    "\n",
    "# 1. 데이터 준비\n",
    "reader = Reader(rating_scale=(0.5, 5.0))\n",
    "data = Dataset.load_from_df(ratings[['user_id', 'title', 'rating']], reader)  # 여기 수정!\n",
    "\n",
    "# 2. 데이터 분할\n",
    "trainset, testset = train_test_split(data, test_size=0.2, random_state=42)\n",
    "\n",
    "# 3. 모델 학습\n",
    "svd = SVD()\n",
    "svd.fit(trainset)\n",
    "\n",
    "# 4. 예측 및 평가\n",
    "predictions = svd.test(testset)\n",
    "accuracy.rmse(predictions)"
   ]
  },
  {
   "cell_type": "markdown",
   "metadata": {},
   "source": [
    "🔍 결과\n",
    "- SVD 모델은 약 0.933의 RMSE를 기록하며, 기존의 협업 필터링 기반 추천 방식보다 정량적인 예측 정확도가 우수한 것으로 나타남\n",
    "- 이는 행렬 분해 방식이 사용자와 영화 간의 잠재적 선호 관계(latent factor)를 효과적으로 반영했기 때문"
   ]
  },
  {
   "cell_type": "markdown",
   "metadata": {},
   "source": [
    "---"
   ]
  },
  {
   "cell_type": "markdown",
   "metadata": {},
   "source": [
    "### 📌 2.4 행렬 분해 - ALS\n",
    "\n",
    "💡 설명\n",
    "- 암묵적 피드백 데이터(예: 클릭, 시청 등)를 바탕으로 행렬을 두 개의 저차원 행렬로 분해해 사용자와 아이템의 잠재 요인을 추정하는 방식\n",
    "- 평점 데이터에도 적용 가능하지만, 암묵적 방식에 맞춰서 0~1 스케일로 가중치화가 필요"
   ]
  },
  {
   "cell_type": "code",
   "execution_count": 58,
   "metadata": {},
   "outputs": [
    {
     "data": {
      "application/vnd.jupyter.widget-view+json": {
       "model_id": "81dcca2ee0084069b391a0d894870a2d",
       "version_major": 2,
       "version_minor": 0
      },
      "text/plain": [
       "  0%|          | 0/20 [00:00<?, ?it/s]"
      ]
     },
     "metadata": {},
     "output_type": "display_data"
    }
   ],
   "source": [
    "import pandas as pd\n",
    "from scipy.sparse import csr_matrix\n",
    "from implicit.als import AlternatingLeastSquares\n",
    "from sklearn.metrics import mean_squared_error, precision_score, recall_score\n",
    "import numpy as np\n",
    "\n",
    "# ALS 모델 학습용 데이터 준비\n",
    "ratings['user_idx'] = ratings['user_id'].astype(\"category\").cat.codes\n",
    "ratings['item_idx'] = ratings['title'].astype(\"category\").cat.codes\n",
    "\n",
    "# 아이템 x 사용자 희소행렬 생성\n",
    "item_user_matrix = csr_matrix((ratings['rating'], (ratings['item_idx'], ratings['user_idx'])))\n",
    "\n",
    "# 사용자 x 아이템 희소행렬 (추천용)\n",
    "user_item_matrix = item_user_matrix.T.tocsr()\n",
    "\n",
    "# ALS 모델 학습\n",
    "als_model = AlternatingLeastSquares(factors=50, regularization=0.01, iterations=20, use_cg=True)\n",
    "als_model.fit(item_user_matrix)\n",
    "\n",
    "# ALS 학습된 범위 확인\n",
    "valid_user_count = als_model.user_factors.shape[0]\n",
    "valid_item_count = als_model.item_factors.shape[0]\n"
   ]
  },
  {
   "cell_type": "markdown",
   "metadata": {},
   "source": [
    " ### 📌 2.5 - RMSE 평가\n",
    "\n",
    "💡 설명\n",
    "- RMSE (Root Mean Squared Error) 는 예측 평점과 실제 평점 간의 평균적인 오차 크기를 나타냄\n",
    "- 이 값이 작을수록 모델이 실제 사용자 평점에 더 가까운 예측을 했다는 의미"
   ]
  },
  {
   "cell_type": "code",
   "execution_count": 59,
   "metadata": {},
   "outputs": [
    {
     "name": "stdout",
     "output_type": "stream",
     "text": [
      "\n",
      "✅ ALS 모델 RMSE: 3.5993\n"
     ]
    },
    {
     "name": "stderr",
     "output_type": "stream",
     "text": [
      "/Library/Frameworks/Python.framework/Versions/3.12/lib/python3.12/site-packages/sklearn/metrics/_regression.py:492: FutureWarning: 'squared' is deprecated in version 1.4 and will be removed in 1.6. To calculate the root mean squared error, use the function'root_mean_squared_error'.\n",
      "  warnings.warn(\n"
     ]
    }
   ],
   "source": [
    "# 테스트 샘플 생성\n",
    "test_sample = ratings.sample(frac=0.2, random_state=42)\n",
    "\n",
    "# ALS 범위 내 데이터로 필터링\n",
    "valid_test_sample = test_sample[\n",
    "    (test_sample['user_idx'] < valid_user_count) &\n",
    "    (test_sample['item_idx'] < valid_item_count)\n",
    "].copy()\n",
    "\n",
    "# ALS 예측 함수\n",
    "def predict_rating(user_idx, item_idx):\n",
    "    user_factor = als_model.user_factors[user_idx]\n",
    "    item_factor = als_model.item_factors[item_idx]\n",
    "    return np.dot(user_factor, item_factor)\n",
    "\n",
    "# 예측값 계산\n",
    "valid_test_sample['predicted_rating'] = valid_test_sample.apply(\n",
    "    lambda row: predict_rating(row['user_idx'], row['item_idx']), axis=1\n",
    ")\n",
    "\n",
    "# RMSE 계산\n",
    "rmse = mean_squared_error(valid_test_sample['rating'], valid_test_sample['predicted_rating'], squared=False)\n",
    "print(f\"\\n✅ ALS 모델 RMSE: {rmse:.4f}\")\n"
   ]
  },
  {
   "cell_type": "markdown",
   "metadata": {},
   "source": [
    "🔍 결과\n",
    "- ALS 모델은 RMSE 약 3.5993을\n",
    "- 이는 ALS 모델이 사용자와 영화 간의 잠재 요인을 고려하여 예측했지만, 다소 큰 오차를 보였다는 것을 의미"
   ]
  },
  {
   "cell_type": "markdown",
   "metadata": {},
   "source": [
    "---"
   ]
  },
  {
   "cell_type": "markdown",
   "metadata": {},
   "source": [
    "### 📌 2.6 데이터 필터링\n",
    "\n",
    "💡 설명\n",
    "- ALS 모델은 학습 과정에서 사용자와 아이템의 잠재 요인(latent factors) 을 추정함\n",
    "- 이 과정에서 유효한 사용자와 아이템 수(valid_user_count, valid_item_count) 가 정해지기 때문에, 전체 데이터 중 ALS 학습에 사용 가능한 범위로 데이터를 필터링해야 함\n",
    "- 필터링을 통해 ALS 모델이 학습한 범위 내에서만 정확한 예측과 평가가 가능해짐"
   ]
  },
  {
   "cell_type": "code",
   "execution_count": 60,
   "metadata": {},
   "outputs": [
    {
     "name": "stdout",
     "output_type": "stream",
     "text": [
      "✅ 필터링 후 사용자 수: 943\n",
      "✅ 필터링 후 아이템 수: 943\n"
     ]
    }
   ],
   "source": [
    "# ALS 학습된 범위로 ratings 데이터 필터링\n",
    "filtered_ratings = ratings[\n",
    "    (ratings['user_idx'] < valid_user_count) &\n",
    "    (ratings['item_idx'] < valid_item_count)\n",
    "].copy()\n",
    "\n",
    "print(f\"✅ 필터링 후 사용자 수: {filtered_ratings['user_idx'].nunique()}\")\n",
    "print(f\"✅ 필터링 후 아이템 수: {filtered_ratings['item_idx'].nunique()}\")\n"
   ]
  },
  {
   "cell_type": "markdown",
   "metadata": {},
   "source": [
    "🔍 결과\n",
    "- 총 943명의 사용자와 943개의 아이템에 대해 잠재 요인이 추정됨\n",
    "- 이 수치는 이후 예측 및 추천에서 ALS 모델이 다룰 수 있는 유효한 범위를 의미하며, 해당 범위를 벗어나는 데이터는 예측이 불가능함\n",
    "- 따라서, 943명 사용자와 943개 아이템의 교차 정보만을 기반으로 평가 및 추천을 진행하게 됨\n"
   ]
  },
  {
   "cell_type": "markdown",
   "metadata": {},
   "source": [
    "---"
   ]
  },
  {
   "cell_type": "markdown",
   "metadata": {},
   "source": [
    "### 📌 2.7 Top-N 추천 정확도 평가\n",
    "\n",
    "💡 설명\n",
    "- Top-N 추천 평가는 모델이 사용자에게 추천한 상위 N개의 아이템 중 실제로 사용자가 좋아한 아이템의 비율(Precision)과, 사용자가 좋아한 아이템 중에서 추천된 아이템의 비율(Recall)을 측정\n",
    "- 추천 시스템에서 단순 RMSE 외에도 Precision/Recall 평가를 통해 사용자 만족도를 반영한 정성적 성능 평가가 중요함\n",
    "- Top-5 추천 기준으로 Precision과 Recall을 평균하여 모델의 전반적인 추천 품질을 평가함"
   ]
  },
  {
   "cell_type": "code",
   "execution_count": 69,
   "metadata": {},
   "outputs": [
    {
     "name": "stdout",
     "output_type": "stream",
     "text": [
      "\n",
      "✅ Top-5 Precision: 0.0400\n",
      "✅ Top-5 Recall: 0.0800\n"
     ]
    }
   ],
   "source": [
    "top_n = 5\n",
    "threshold = 1.0  # 좋아요 간주 기준\n",
    "\n",
    "precision_list = []\n",
    "recall_list = []\n",
    "\n",
    "for user_idx in filtered_ratings['user_idx'].unique()[:50]:  # 50명 테스트\n",
    "    user_items_row = user_item_matrix[user_idx:user_idx+1]\n",
    "\n",
    "    try:\n",
    "        # 필터링 OFF → 범위 초과 방지\n",
    "        recommended_items_scores = als_model.recommend(userid=user_idx, user_items=user_items_row, N=top_n, filter_already_liked_items=False)\n",
    "    except Exception as e:\n",
    "        print(f\"User {user_idx}: 추천 에러 발생 → {e}\")\n",
    "        continue\n",
    "\n",
    "    # recommended_items_scores는 (N, 2) 배열 → unpack X\n",
    "    recommended_items = [int(item_score[0]) for item_score in recommended_items_scores]\n",
    "\n",
    "    actual_liked_items = filtered_ratings[\n",
    "        (filtered_ratings['user_idx'] == user_idx) &\n",
    "        (filtered_ratings['rating'] >= threshold)\n",
    "    ]['item_idx'].tolist()\n",
    "\n",
    "    # print(f\"User {user_idx}: 추천 {len(recommended_items)}개, 실제 좋아한 {len(actual_liked_items)}개\")\n",
    "\n",
    "    if len(actual_liked_items) == 0:\n",
    "        print(f\"User {user_idx}: 좋아한 항목 없음 → 평가 제외\")\n",
    "        continue\n",
    "\n",
    "    y_true = [1 if item in actual_liked_items else 0 for item in recommended_items]\n",
    "    y_pred = [1] * len(recommended_items)\n",
    "\n",
    "    precision = precision_score(y_true, y_pred, zero_division=0)\n",
    "    recall = recall_score(y_true, y_pred, zero_division=0)\n",
    "\n",
    "    precision_list.append(precision)\n",
    "    recall_list.append(recall)\n",
    "\n",
    "# 평균 Precision/Recall\n",
    "avg_precision = np.mean(precision_list)\n",
    "avg_recall = np.mean(recall_list)\n",
    "\n",
    "print(f\"\\n✅ Top-{top_n} Precision: {avg_precision:.4f}\")\n",
    "print(f\"✅ Top-{top_n} Recall: {avg_recall:.4f}\")"
   ]
  },
  {
   "cell_type": "markdown",
   "metadata": {},
   "source": [
    "🔍 결과\n",
    "- Top-5 Precision은 약 4%, Recall은 약 0.8% \n",
    "- 이는 모델이 추천한 상위 5개 아이템 중 사용자가 실제로 좋아한 비율이 낮고, 사용자가 좋아한 아이템을 거의 추천하지 못했다는 것을 의미"
   ]
  },
  {
   "cell_type": "markdown",
   "metadata": {},
   "source": [
    "낮은 Precision/Recall 값은 모델의 추천 품질이 부족함을 확인\n",
    "\n",
    "<개선 방안>>\n",
    "1. 하이퍼파라미터 튜닝: factors 수, regularization 값, iteration 수 조정\n",
    "2. 추천 전략 개선: filter_already_liked_items 옵션을 활용하여 사용자 만족도 반영\n",
    "3. 데이터 전처리 강화: 평점 정규화 또는 이상치 제거로 데이터 품질 향상\n",
    "4. 다른 모델 시도: SVD, Autoencoder 기반 딥러닝 모델 등 명시적 피드백에 적합한 알고리즘 비교"
   ]
  }
 ],
 "metadata": {
  "kernelspec": {
   "display_name": "Python 3",
   "language": "python",
   "name": "python3"
  },
  "language_info": {
   "codemirror_mode": {
    "name": "ipython",
    "version": 3
   },
   "file_extension": ".py",
   "mimetype": "text/x-python",
   "name": "python",
   "nbconvert_exporter": "python",
   "pygments_lexer": "ipython3",
   "version": "3.12.1"
  }
 },
 "nbformat": 4,
 "nbformat_minor": 2
}
